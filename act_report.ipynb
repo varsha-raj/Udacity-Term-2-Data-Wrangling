{
 "cells": [
  {
   "cell_type": "markdown",
   "metadata": {},
   "source": [
    "### Data Insights\n",
    "\n",
    "Using the master twitter data (twitter master archive), all week day names were extracted from the tweet timestamp. Bar charts were created to assess the most populat tweet days. Each bar chart in the plot indicate the tweet counts for that day. The plot does not provide any significant trends on the most popular days to tweet. \n",
    "\n",
    "#### Insight 1:\n",
    "The chart below indicates a reduced amount of tweet counts on Saturday followed by Saturday.\n",
    "\n",
    "![alt text](twitterweek.png \"Distribution of twitter count for week days\")\n",
    "\n",
    "Reduced tweet counts on the weekends is probably because tweeters are outdoors and probably have less access to phone.\n",
    "\n",
    "What is interesting is that the first three days of the week (Monday, Tuesday and Wednesday) are relatively the more popular tweet days and relativelu reduces as the week goes by (Thursday and Friday)."
   ]
  },
  {
   "cell_type": "markdown",
   "metadata": {},
   "source": [
    "#### Insight 2:\n",
    "Maximum values were exytracted from both retweet count column and favorite column.\n",
    "\n",
    "Maximum retweeted dog and dog with the most favorite count had a similar pattern. While this may not be always the case, the dogs images that had the charactersitics of showing love and pashion had the most retweetd and favorite counts! \n",
    "\n",
    "Below is the image of the dog that had the most retweet counts \n",
    "\n",
    "![alt text](retweeted_dog.jpg \"Max rewteets\")\n",
    "\n",
    "Below is the image of the dog that had the most favorite counts \n",
    "\n",
    "![alt text](favorite_dog.jpg \"Max fav counts\")"
   ]
  },
  {
   "cell_type": "markdown",
   "metadata": {},
   "source": [
    "#### Insight 3:\n",
    "The prediction algorithm does not always detect the dogs breed correclty.\n",
    "Below is a breakdown of how many time the dog predictions were wrong by the three prediction algorithm (indicated by False)\n",
    "\n",
    "![alt text](table.png \"breed predictions\")\n",
    "\n",
    "Out of the total 1490 observations, the algorthims detected the correct breed almost 75% of the time which is not bad at all."
   ]
  },
  {
   "cell_type": "markdown",
   "metadata": {},
   "source": [
    "#### Insight 4\n",
    "The most popular dog rating was a 12/10. Generally the numerator ratings ranged between 11 and 13. Frequency of very high and very low ratings are generally are lesser."
   ]
  },
  {
   "cell_type": "markdown",
   "metadata": {},
   "source": [
    "#### Insight 5\n",
    "Majority of the data did not have a valid dog stage (repsented as None when there is no dog stage available). With available dog stage data, doggo and pupper were the more popular dog stages.\n",
    "\n",
    "![alt text](dogstage.png \"dog stage count\")\n",
    "\n",
    "These dog stages are essentially fancy lingos used to represent the dog type!\n",
    "\n",
    "Doggos are usually older dogs! They can probably uderstand better and perhaps more experienced.\n",
    "\n",
    "Pupper are also similar to doggo but generally litter younger and less experienced when compared to doggos!\n",
    "\n",
    "The dog that had the most favorite counts (who loves to kiss away every other pupper he meets) was in fact a pupper too!!\n",
    "\n",
    "Puppo is a transitional phase between a doggo and pupper.\n",
    "\n",
    "Floofer are just dogs that are extremely fluffy!\n"
   ]
  }
 ],
 "metadata": {
  "kernelspec": {
   "display_name": "Python 3",
   "language": "python",
   "name": "python3"
  },
  "language_info": {
   "codemirror_mode": {
    "name": "ipython",
    "version": 3
   },
   "file_extension": ".py",
   "mimetype": "text/x-python",
   "name": "python",
   "nbconvert_exporter": "python",
   "pygments_lexer": "ipython3",
   "version": "3.6.4"
  }
 },
 "nbformat": 4,
 "nbformat_minor": 2
}
